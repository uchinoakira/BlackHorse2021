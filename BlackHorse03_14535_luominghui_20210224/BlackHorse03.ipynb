{
 "cells": [
  {
   "cell_type": "markdown",
   "metadata": {},
   "source": [
    "汽车消费城市划分：\n",
    "* 数据集：car_data.csv\n",
    "* 31个省份地区，4个维度的指标（人均GDP，城镇人口比重，交通工具消费价格指数，百户拥有汽车量）\n",
    "\n",
    "Thinking：将城市划分为几组，哪些城市会是在一组？"
   ]
  },
  {
   "cell_type": "code",
   "execution_count": 1,
   "metadata": {},
   "outputs": [],
   "source": [
    "import pandas as pd\n",
    "from sklearn.cluster import KMeans\n",
    "from sklearn.preprocessing import MinMaxScaler\n",
    "import matplotlib.pyplot as plt"
   ]
  },
  {
   "cell_type": "code",
   "execution_count": 2,
   "metadata": {},
   "outputs": [
    {
     "data": {
      "text/html": [
       "<div>\n",
       "<style scoped>\n",
       "    .dataframe tbody tr th:only-of-type {\n",
       "        vertical-align: middle;\n",
       "    }\n",
       "\n",
       "    .dataframe tbody tr th {\n",
       "        vertical-align: top;\n",
       "    }\n",
       "\n",
       "    .dataframe thead th {\n",
       "        text-align: right;\n",
       "    }\n",
       "</style>\n",
       "<table border=\"1\" class=\"dataframe\">\n",
       "  <thead>\n",
       "    <tr style=\"text-align: right;\">\n",
       "      <th></th>\n",
       "      <th>地区</th>\n",
       "      <th>人均GDP</th>\n",
       "      <th>城镇人口比重</th>\n",
       "      <th>交通工具消费价格指数</th>\n",
       "      <th>百户拥有汽车量</th>\n",
       "    </tr>\n",
       "  </thead>\n",
       "  <tbody>\n",
       "    <tr>\n",
       "      <th>0</th>\n",
       "      <td>北京</td>\n",
       "      <td>8.05</td>\n",
       "      <td>86.20</td>\n",
       "      <td>95.92</td>\n",
       "      <td>37.71</td>\n",
       "    </tr>\n",
       "    <tr>\n",
       "      <th>1</th>\n",
       "      <td>天津</td>\n",
       "      <td>8.34</td>\n",
       "      <td>80.50</td>\n",
       "      <td>103.57</td>\n",
       "      <td>20.62</td>\n",
       "    </tr>\n",
       "    <tr>\n",
       "      <th>2</th>\n",
       "      <td>河北</td>\n",
       "      <td>3.39</td>\n",
       "      <td>45.60</td>\n",
       "      <td>99.03</td>\n",
       "      <td>23.32</td>\n",
       "    </tr>\n",
       "    <tr>\n",
       "      <th>3</th>\n",
       "      <td>山西</td>\n",
       "      <td>3.13</td>\n",
       "      <td>49.68</td>\n",
       "      <td>98.96</td>\n",
       "      <td>18.60</td>\n",
       "    </tr>\n",
       "    <tr>\n",
       "      <th>4</th>\n",
       "      <td>内蒙古</td>\n",
       "      <td>5.79</td>\n",
       "      <td>56.62</td>\n",
       "      <td>99.11</td>\n",
       "      <td>19.62</td>\n",
       "    </tr>\n",
       "  </tbody>\n",
       "</table>\n",
       "</div>"
      ],
      "text/plain": [
       "    地区  人均GDP  城镇人口比重  交通工具消费价格指数  百户拥有汽车量\n",
       "0   北京   8.05   86.20       95.92    37.71\n",
       "1   天津   8.34   80.50      103.57    20.62\n",
       "2   河北   3.39   45.60       99.03    23.32\n",
       "3   山西   3.13   49.68       98.96    18.60\n",
       "4  内蒙古   5.79   56.62       99.11    19.62"
      ]
     },
     "execution_count": 2,
     "metadata": {},
     "output_type": "execute_result"
    }
   ],
   "source": [
    "data = pd.read_csv('car_data.csv',encoding = 'gbk')\n",
    "data.head()"
   ]
  },
  {
   "cell_type": "code",
   "execution_count": 3,
   "metadata": {},
   "outputs": [],
   "source": [
    "train_x = data[[\"人均GDP\",\"城镇人口比重\",\"交通工具消费价格指数\",\"百户拥有汽车量\"]]"
   ]
  },
  {
   "cell_type": "code",
   "execution_count": 4,
   "metadata": {},
   "outputs": [],
   "source": [
    "min_max_scaler = MinMaxScaler()\n",
    "train_x = min_max_scaler.fit_transform(train_x)"
   ]
  },
  {
   "cell_type": "code",
   "execution_count": 5,
   "metadata": {},
   "outputs": [
    {
     "data": {
      "image/png": "[encoded data removed]",
      "text/plain": [
       "<Figure size 432x288 with 1 Axes>"
      ]
     },
     "metadata": {
      "needs_background": "light"
     },
     "output_type": "display_data"
    }
   ],
   "source": [
    "sse = []\n",
    "for k in range(1,11):\n",
    "    kmeans = KMeans(n_clusters=k)\n",
    "    kmeans.fit(train_x)\n",
    "    sse.append(kmeans.inertia_)\n",
    "x = range(1,11)\n",
    "plt.xlabel('K')\n",
    "plt.ylabel('SSE')\n",
    "plt.plot(x,sse,'o-')\n",
    "plt.show()"
   ]
  },
  {
   "cell_type": "markdown",
   "metadata": {},
   "source": [
    "根据上图，选取K=4进行分析"
   ]
  },
  {
   "cell_type": "code",
   "execution_count": 6,
   "metadata": {},
   "outputs": [],
   "source": [
    "K = 4"
   ]
  },
  {
   "cell_type": "code",
   "execution_count": 7,
   "metadata": {},
   "outputs": [],
   "source": [
    "kmeans = KMeans(n_clusters = K)\n",
    "kmeans.fit(train_x)\n",
    "predict_y = kmeans.predict(train_x)"
   ]
  },
  {
   "cell_type": "code",
   "execution_count": 8,
   "metadata": {},
   "outputs": [
    {
     "data": {
      "text/html": [
       "<div>\n",
       "<style scoped>\n",
       "    .dataframe tbody tr th:only-of-type {\n",
       "        vertical-align: middle;\n",
       "    }\n",
       "\n",
       "    .dataframe tbody tr th {\n",
       "        vertical-align: top;\n",
       "    }\n",
       "\n",
       "    .dataframe thead th {\n",
       "        text-align: right;\n",
       "    }\n",
       "</style>\n",
       "<table border=\"1\" class=\"dataframe\">\n",
       "  <thead>\n",
       "    <tr style=\"text-align: right;\">\n",
       "      <th></th>\n",
       "      <th>地区</th>\n",
       "      <th>人均GDP</th>\n",
       "      <th>城镇人口比重</th>\n",
       "      <th>交通工具消费价格指数</th>\n",
       "      <th>百户拥有汽车量</th>\n",
       "      <th>聚类结果</th>\n",
       "    </tr>\n",
       "  </thead>\n",
       "  <tbody>\n",
       "    <tr>\n",
       "      <th>0</th>\n",
       "      <td>北京</td>\n",
       "      <td>8.05</td>\n",
       "      <td>86.20</td>\n",
       "      <td>95.92</td>\n",
       "      <td>37.71</td>\n",
       "      <td>2</td>\n",
       "    </tr>\n",
       "    <tr>\n",
       "      <th>1</th>\n",
       "      <td>天津</td>\n",
       "      <td>8.34</td>\n",
       "      <td>80.50</td>\n",
       "      <td>103.57</td>\n",
       "      <td>20.62</td>\n",
       "      <td>0</td>\n",
       "    </tr>\n",
       "    <tr>\n",
       "      <th>2</th>\n",
       "      <td>河北</td>\n",
       "      <td>3.39</td>\n",
       "      <td>45.60</td>\n",
       "      <td>99.03</td>\n",
       "      <td>23.32</td>\n",
       "      <td>3</td>\n",
       "    </tr>\n",
       "    <tr>\n",
       "      <th>3</th>\n",
       "      <td>山西</td>\n",
       "      <td>3.13</td>\n",
       "      <td>49.68</td>\n",
       "      <td>98.96</td>\n",
       "      <td>18.60</td>\n",
       "      <td>3</td>\n",
       "    </tr>\n",
       "    <tr>\n",
       "      <th>4</th>\n",
       "      <td>内蒙古</td>\n",
       "      <td>5.79</td>\n",
       "      <td>56.62</td>\n",
       "      <td>99.11</td>\n",
       "      <td>19.62</td>\n",
       "      <td>2</td>\n",
       "    </tr>\n",
       "  </tbody>\n",
       "</table>\n",
       "</div>"
      ],
      "text/plain": [
       "    地区  人均GDP  城镇人口比重  交通工具消费价格指数  百户拥有汽车量  聚类结果\n",
       "0   北京   8.05   86.20       95.92    37.71     2\n",
       "1   天津   8.34   80.50      103.57    20.62     0\n",
       "2   河北   3.39   45.60       99.03    23.32     3\n",
       "3   山西   3.13   49.68       98.96    18.60     3\n",
       "4  内蒙古   5.79   56.62       99.11    19.62     2"
      ]
     },
     "execution_count": 8,
     "metadata": {},
     "output_type": "execute_result"
    }
   ],
   "source": [
    "result = pd.concat((data, pd.DataFrame(predict_y)), axis = 1)\n",
    "result.rename({0:u'聚类结果'},axis = 1, inplace = True)\n",
    "result.head()"
   ]
  },
  {
   "cell_type": "code",
   "execution_count": 9,
   "metadata": {},
   "outputs": [],
   "source": [
    "result.to_excel(\"customer_cluster_result.xlsx\",index = False)"
   ]
  },
  {
   "cell_type": "code",
   "execution_count": 10,
   "metadata": {},
   "outputs": [
    {
     "name": "stdout",
     "output_type": "stream",
     "text": [
      "Group  0 : 天津,上海\n",
      "Group  1 : 辽宁,黑龙江,安徽,福建,江西,河南,湖北,湖南,广西,海南,重庆,四川,贵州,陕西,甘肃,青海,宁夏,新疆\n",
      "Group  2 : 北京,内蒙古,江苏,浙江,山东,广东\n",
      "Group  3 : 河北,山西,吉林,云南,西藏\n"
     ]
    }
   ],
   "source": [
    "for i in range(4):\n",
    "    group = result[result['聚类结果']==i]['地区'].tolist()\n",
    "    print('Group ',str(i),':',','.join(group))"
   ]
  },
  {
   "cell_type": "code",
   "execution_count": null,
   "metadata": {},
   "outputs": [],
   "source": []
  }
 ],
 "metadata": {
  "kernelspec": {
   "display_name": "Python 3",
   "language": "python",
   "name": "python3"
  },
  "language_info": {
   "codemirror_mode": {
    "name": "ipython",
    "version": 3
   },
   "file_extension": ".py",
   "mimetype": "text/x-python",
   "name": "python",
   "nbconvert_exporter": "python",
   "pygments_lexer": "ipython3",
   "version": "3.8.5"
  }
 },
 "nbformat": 4,
 "nbformat_minor": 4
}
